{
  "nbformat": 4,
  "nbformat_minor": 0,
  "metadata": {
    "colab": {
      "name": "SOF_2019_ Dev_Survey.ipynb",
      "provenance": [],
      "collapsed_sections": [],
      "include_colab_link": true
    },
    "kernelspec": {
      "name": "python3",
      "display_name": "Python 3"
    }
  },
  "cells": [
    {
      "cell_type": "markdown",
      "metadata": {
        "id": "view-in-github",
        "colab_type": "text"
      },
      "source": [
        "<a href=\"https://colab.research.google.com/github/MindMansion/BetterRest/blob/master/SOF_2019__Dev_Survey.ipynb\" target=\"_parent\"><img src=\"https://colab.research.google.com/assets/colab-badge.svg\" alt=\"Open In Colab\"/></a>"
      ]
    },
    {
      "cell_type": "markdown",
      "metadata": {
        "id": "d1Jqw5q-wu42",
        "colab_type": "text"
      },
      "source": [
        "# Data importation and manipulations\n"
      ]
    },
    {
      "cell_type": "code",
      "metadata": {
        "id": "CwdG5CqoiIVU",
        "colab_type": "code",
        "outputId": "dcffa4f3-6da8-4eda-a970-29f8497a0f56",
        "colab": {
          "base_uri": "https://localhost:8080/",
          "height": 67
        }
      },
      "source": [
        "import csv\n",
        "from collections import defaultdict\n",
        "\n",
        "with open('survey_results_public.csv') as f:\n",
        "\n",
        "  dict_reader = csv.DictReader(f)\n",
        "\n",
        "  \"\"\" The below line of code uses defaultdict method to upadate count\"\"\"\n",
        "  counts = defaultdict(int)\n",
        "\n",
        "  # \"\"\" Transform the Below if condition to a dictionary\"\"\" \n",
        "  # counts = {\n",
        "  #     'Yes': 0,\n",
        "  #     'No': 0\n",
        "  # }\n",
        "\n",
        "\n",
        "\n",
        "  for line in dict_reader:\n",
        "     \"\"\"Update with Dictionaty version\"\"\"\n",
        "     counts[line['Hobbyist']] += 1\n",
        "  #   if line['Hobbyist'] == 'Yes':\n",
        "  #     yes_count += 1\n",
        "  #   elif line['Hobbyist'] =='No':\n",
        "  #     no_count += 1\n",
        "\n",
        "     \n",
        "  \n",
        "\n",
        "  \n",
        "yes_counts = counts['Yes']\n",
        "no_counts = counts['No']\n",
        "\n",
        "total_count = yes_counts + no_counts\n",
        "yes_percent = round(((yes_counts/total_count) * 100), 1)\n",
        "no_percent = round(((no_counts/ total_count) * 100), 1)\n",
        "print(f\"Yes: {yes_count}, No:{no_count}, Total: {total_count}\")\n",
        "\n",
        "\n",
        "\n",
        "\n",
        "print(f\"Hobbyist Coders: %{yes_percent}\\nNone Hobbiyst Coders: %{no_percent}\")\n"
      ],
      "execution_count": 40,
      "outputs": [
        {
          "output_type": "stream",
          "text": [
            "Yes: 0, No:0, Total: 34960\n",
            "Hobbyist Coders: %80.2\n",
            "None Hobbiyst Coders: %19.8\n"
          ],
          "name": "stdout"
        }
      ]
    }
  ]
}